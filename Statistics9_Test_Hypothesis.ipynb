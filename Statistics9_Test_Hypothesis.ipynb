{
 "cells": [
  {
   "cell_type": "markdown",
   "id": "53fbfa5e",
   "metadata": {},
   "source": [
    "### Statistics 9: Test the hypothesis that the mean scores of all the students are the same"
   ]
  },
  {
   "cell_type": "code",
   "execution_count": 1,
   "id": "d159d6f1",
   "metadata": {},
   "outputs": [
    {
     "data": {
      "text/html": [
       "<div>\n",
       "<style scoped>\n",
       "    .dataframe tbody tr th:only-of-type {\n",
       "        vertical-align: middle;\n",
       "    }\n",
       "\n",
       "    .dataframe tbody tr th {\n",
       "        vertical-align: top;\n",
       "    }\n",
       "\n",
       "    .dataframe thead th {\n",
       "        text-align: right;\n",
       "    }\n",
       "</style>\n",
       "<table border=\"1\" class=\"dataframe\">\n",
       "  <thead>\n",
       "    <tr style=\"text-align: right;\">\n",
       "      <th></th>\n",
       "      <th>Name</th>\n",
       "      <th>Exam 1</th>\n",
       "      <th>Exam 2</th>\n",
       "      <th>Exam 3</th>\n",
       "    </tr>\n",
       "  </thead>\n",
       "  <tbody>\n",
       "    <tr>\n",
       "      <th>0</th>\n",
       "      <td>Karan</td>\n",
       "      <td>85</td>\n",
       "      <td>90</td>\n",
       "      <td>92</td>\n",
       "    </tr>\n",
       "    <tr>\n",
       "      <th>1</th>\n",
       "      <td>Deepa</td>\n",
       "      <td>70</td>\n",
       "      <td>80</td>\n",
       "      <td>85</td>\n",
       "    </tr>\n",
       "    <tr>\n",
       "      <th>2</th>\n",
       "      <td>Karthik</td>\n",
       "      <td>90</td>\n",
       "      <td>85</td>\n",
       "      <td>88</td>\n",
       "    </tr>\n",
       "    <tr>\n",
       "      <th>3</th>\n",
       "      <td>Chandan</td>\n",
       "      <td>75</td>\n",
       "      <td>70</td>\n",
       "      <td>75</td>\n",
       "    </tr>\n",
       "    <tr>\n",
       "      <th>4</th>\n",
       "      <td>Jeevan</td>\n",
       "      <td>95</td>\n",
       "      <td>92</td>\n",
       "      <td>96</td>\n",
       "    </tr>\n",
       "  </tbody>\n",
       "</table>\n",
       "</div>"
      ],
      "text/plain": [
       "      Name  Exam 1  Exam 2  Exam 3\n",
       "0    Karan      85      90      92\n",
       "1    Deepa      70      80      85\n",
       "2  Karthik      90      85      88\n",
       "3  Chandan      75      70      75\n",
       "4   Jeevan      95      92      96"
      ]
     },
     "metadata": {},
     "output_type": "display_data"
    },
    {
     "name": "stdout",
     "output_type": "stream",
     "text": [
      "f_Statistic: 0.3236947791164659\n",
      "p-value: 0.7295954253321559\n",
      "The mean scores of the students are the same.\n"
     ]
    }
   ],
   "source": [
    "import pandas as pd\n",
    "from scipy.stats import f_oneway\n",
    "\n",
    "data = {\"Name\": ['Karan', 'Deepa', 'Karthik', 'Chandan', 'Jeevan'],\n",
    "        \"Exam 1\": [85,70,90,75,95],\n",
    "        \"Exam 2\": [90,80,85,70,92],\n",
    "        \"Exam 3\": [92,85,88,75,96]    \n",
    "        }\n",
    "\n",
    "df = pd.DataFrame(data)\n",
    "display(df.head())\n",
    "\n",
    "# Perform one-way ANOVA\n",
    "f_statistic, p_value = f_oneway(df[\"Exam 1\"], df[\"Exam 2\"], df[\"Exam 3\"])\n",
    "\n",
    "print(\"f_Statistic:\", f_statistic)\n",
    "print(\"p-value:\", p_value)\n",
    "\n",
    "if p_value < 0.05:\n",
    "    print(\"The mean scores of the students are not the same.\")\n",
    "    \n",
    "    highest_score_student = df.loc[df[\"Exam 1\"].idxmax(), \"Name\"]\n",
    "    print(\"The student with the highest score is:\", highest_score_student)\n",
    "else:\n",
    "    print(\"The mean scores of the students are the same.\")\n"
   ]
  }
 ],
 "metadata": {
  "kernelspec": {
   "display_name": "Python 3 (ipykernel)",
   "language": "python",
   "name": "python3"
  },
  "language_info": {
   "codemirror_mode": {
    "name": "ipython",
    "version": 3
   },
   "file_extension": ".py",
   "mimetype": "text/x-python",
   "name": "python",
   "nbconvert_exporter": "python",
   "pygments_lexer": "ipython3",
   "version": "3.9.13"
  }
 },
 "nbformat": 4,
 "nbformat_minor": 5
}
